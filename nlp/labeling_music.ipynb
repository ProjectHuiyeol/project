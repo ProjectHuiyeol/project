{
 "cells": [
  {
   "cell_type": "code",
   "execution_count": 1,
   "metadata": {},
   "outputs": [],
   "source": [
    "import pandas as pd\n",
    "import numpy as np\n",
    "from time import *"
   ]
  },
  {
   "cell_type": "code",
   "execution_count": 2,
   "metadata": {},
   "outputs": [],
   "source": [
    "lyrics = pd.read_csv('/project_huiyeol/project/metadata/Song_Info.csv')"
   ]
  },
  {
   "cell_type": "code",
   "execution_count": 11,
   "metadata": {},
   "outputs": [],
   "source": [
    "main_tag = ['우울한', '공격적인', '긴장감', '신나는', '밝은', '차분한']\n",
    "sub_tag = ['슬픈', '외로운', '분노', '강렬한', '폭발적인', '시끄러움', '공포', '긴장됨', '긴박함', '신나는', '강렬한', '흥겨운', '청량한',\n",
    "'희망찬', '발랄한', '따스한', '부드러운', '잔잔한', '평온한']"
   ]
  },
  {
   "cell_type": "code",
   "execution_count": 12,
   "metadata": {},
   "outputs": [],
   "source": [
    "lyrics['main_tag'] = ''\n",
    "lyrics['sub_tag'] = ''"
   ]
  },
  {
   "cell_type": "code",
   "execution_count": 13,
   "metadata": {},
   "outputs": [],
   "source": [
    "tags = dict()\n",
    "for key, value in enumerate(main_tag):\n",
    "    tags[key+1] = value"
   ]
  },
  {
   "cell_type": "code",
   "execution_count": 14,
   "metadata": {},
   "outputs": [],
   "source": [
    "sort_lyrics = lyrics.sort_values(by='SONG_ID')"
   ]
  },
  {
   "cell_type": "code",
   "execution_count": 18,
   "metadata": {},
   "outputs": [
    {
     "data": {
      "text/plain": [
       "2466"
      ]
     },
     "execution_count": 18,
     "metadata": {},
     "output_type": "execute_result"
    }
   ],
   "source": [
    "sort_lyrics.iloc[0]['SONG_ID']"
   ]
  },
  {
   "cell_type": "code",
   "execution_count": null,
   "metadata": {},
   "outputs": [],
   "source": [
    "for idx in range(250):\n",
    "    print(sort_lyrics.iloc[idx]['SONG_ID'], sort_lyrics.iloc[idx]['SONG_TITLE'], '\\n')\n",
    "    for i in range(1, len(tags)+1):\n",
    "        print('{}:{}'.format(i, tags[i]), end=' ')\n",
    "    key = int(input())\n",
    "    if key not in tags.keys():\n",
    "        key = int(input())\n",
    "    else:\n",
    "        lyrics.loc[idx, 'main_tag'] = tags[key]\n",
    "        sleep(1)"
   ]
  },
  {
   "cell_type": "code",
   "execution_count": 25,
   "metadata": {},
   "outputs": [],
   "source": [
    "sort_lyrics.to_csv('/project_huiyeol/project/metadata/sort_lyrics.csv', index=False, encoding=\"utf-8-sig\")"
   ]
  },
  {
   "cell_type": "code",
   "execution_count": 38,
   "metadata": {},
   "outputs": [],
   "source": [
    "lyrics.to_csv('/project_huiyeol/project/metadata/Song_Lyrics_Labeling.csv')"
   ]
  },
  {
   "cell_type": "code",
   "execution_count": 41,
   "metadata": {},
   "outputs": [],
   "source": [
    "sort_lyrics = lyrics.sort_values(by='SONG_ID')"
   ]
  },
  {
   "cell_type": "code",
   "execution_count": 42,
   "metadata": {},
   "outputs": [
    {
     "data": {
      "text/html": [
       "<div>\n",
       "<style scoped>\n",
       "    .dataframe tbody tr th:only-of-type {\n",
       "        vertical-align: middle;\n",
       "    }\n",
       "\n",
       "    .dataframe tbody tr th {\n",
       "        vertical-align: top;\n",
       "    }\n",
       "\n",
       "    .dataframe thead th {\n",
       "        text-align: right;\n",
       "    }\n",
       "</style>\n",
       "<table border=\"1\" class=\"dataframe\">\n",
       "  <thead>\n",
       "    <tr style=\"text-align: right;\">\n",
       "      <th></th>\n",
       "      <th>Unnamed: 0</th>\n",
       "      <th>IDX</th>\n",
       "      <th>ST_ID</th>\n",
       "      <th>SONG_ID</th>\n",
       "      <th>PRIORITY</th>\n",
       "      <th>ST_TAG</th>\n",
       "      <th>LYRICS</th>\n",
       "      <th>SONG_TITLE</th>\n",
       "      <th>new_tag</th>\n",
       "    </tr>\n",
       "  </thead>\n",
       "  <tbody>\n",
       "    <tr>\n",
       "      <th>1118</th>\n",
       "      <td>1118</td>\n",
       "      <td>10669994</td>\n",
       "      <td>467710</td>\n",
       "      <td>2466</td>\n",
       "      <td>2</td>\n",
       "      <td>편안해요</td>\n",
       "      <td>나도 알지 못한날 굳이 알려고 들지마 \\n보여줄 수 없는 내 마음만 안타까울 뿐 \\...</td>\n",
       "      <td>오늘도 난</td>\n",
       "      <td></td>\n",
       "    </tr>\n",
       "    <tr>\n",
       "      <th>432</th>\n",
       "      <td>432</td>\n",
       "      <td>10225315</td>\n",
       "      <td>456206</td>\n",
       "      <td>5112</td>\n",
       "      <td>17</td>\n",
       "      <td>신남</td>\n",
       "      <td>제각기 있기 였기 때문이기 \\n사랑했기 때문이기 \\n하루지기 이야기 이야기 \\n잊지...</td>\n",
       "      <td>끝 (End)</td>\n",
       "      <td></td>\n",
       "    </tr>\n",
       "    <tr>\n",
       "      <th>1255</th>\n",
       "      <td>1255</td>\n",
       "      <td>11485381</td>\n",
       "      <td>488851</td>\n",
       "      <td>7712</td>\n",
       "      <td>11</td>\n",
       "      <td>화나요</td>\n",
       "      <td>당신은 모르실 거야\\n얼마나 사랑했는지\\n세월이 흘러가면은\\n그때서 뉘우칠 거야\\n...</td>\n",
       "      <td>당신은 모르실거야 (CF - LIG 핑클편)</td>\n",
       "      <td></td>\n",
       "    </tr>\n",
       "    <tr>\n",
       "      <th>86</th>\n",
       "      <td>86</td>\n",
       "      <td>8327385</td>\n",
       "      <td>363115</td>\n",
       "      <td>9270</td>\n",
       "      <td>13</td>\n",
       "      <td>행복해요</td>\n",
       "      <td>이렇게 멋진 파란 하늘 위로 \\n날으는 마법 융단을 타고 \\n이렇게 멋진 푸른 세상...</td>\n",
       "      <td>매직 카펫 라이드</td>\n",
       "      <td></td>\n",
       "    </tr>\n",
       "    <tr>\n",
       "      <th>1306</th>\n",
       "      <td>1306</td>\n",
       "      <td>11503684</td>\n",
       "      <td>489238</td>\n",
       "      <td>9302</td>\n",
       "      <td>9</td>\n",
       "      <td>화나요</td>\n",
       "      <td>\\N</td>\n",
       "      <td>Deep In The Night</td>\n",
       "      <td></td>\n",
       "    </tr>\n",
       "    <tr>\n",
       "      <th>...</th>\n",
       "      <td>...</td>\n",
       "      <td>...</td>\n",
       "      <td>...</td>\n",
       "      <td>...</td>\n",
       "      <td>...</td>\n",
       "      <td>...</td>\n",
       "      <td>...</td>\n",
       "      <td>...</td>\n",
       "      <td>...</td>\n",
       "    </tr>\n",
       "    <tr>\n",
       "      <th>892</th>\n",
       "      <td>892</td>\n",
       "      <td>10610145</td>\n",
       "      <td>466008</td>\n",
       "      <td>34850634</td>\n",
       "      <td>1</td>\n",
       "      <td>편안해요</td>\n",
       "      <td>너와 함께 하고 싶은 일들을\\n상상하는 게\\n요즘 내 일상이 되고\\n너의 즐거워하는...</td>\n",
       "      <td>사랑인가 봐</td>\n",
       "      <td></td>\n",
       "    </tr>\n",
       "    <tr>\n",
       "      <th>947</th>\n",
       "      <td>947</td>\n",
       "      <td>10639507</td>\n",
       "      <td>466884</td>\n",
       "      <td>34890162</td>\n",
       "      <td>20</td>\n",
       "      <td>편안해요</td>\n",
       "      <td>인스타로 몰래 보는 너의 하루들\\n누가 봐도 헤어진 티를 내\\n팔로우 다 끊고서 좋...</td>\n",
       "      <td>다시 만날까 봐</td>\n",
       "      <td></td>\n",
       "    </tr>\n",
       "    <tr>\n",
       "      <th>1328</th>\n",
       "      <td>1328</td>\n",
       "      <td>11661397</td>\n",
       "      <td>493585</td>\n",
       "      <td>34927767</td>\n",
       "      <td>12</td>\n",
       "      <td>화나요</td>\n",
       "      <td>Back to the day\\n갓 10대가 됐을 때\\n그때 내가 널 보지 못했다면\\...</td>\n",
       "      <td>정이라고 하자 (Feat. 10CM)</td>\n",
       "      <td></td>\n",
       "    </tr>\n",
       "    <tr>\n",
       "      <th>1335</th>\n",
       "      <td>1335</td>\n",
       "      <td>11661404</td>\n",
       "      <td>493585</td>\n",
       "      <td>34943312</td>\n",
       "      <td>19</td>\n",
       "      <td>화나요</td>\n",
       "      <td>우리 다시 만날래\\n예쁘게 빛나던\\n모든 추억들이\\n너무 그리워\\n너의 품에 안길래...</td>\n",
       "      <td>나의 X에게</td>\n",
       "      <td></td>\n",
       "    </tr>\n",
       "    <tr>\n",
       "      <th>725</th>\n",
       "      <td>725</td>\n",
       "      <td>10402486</td>\n",
       "      <td>460784</td>\n",
       "      <td>101721111</td>\n",
       "      <td>1</td>\n",
       "      <td>신남</td>\n",
       "      <td>\\N</td>\n",
       "      <td>On the Atlas</td>\n",
       "      <td></td>\n",
       "    </tr>\n",
       "  </tbody>\n",
       "</table>\n",
       "<p>1337 rows × 9 columns</p>\n",
       "</div>"
      ],
      "text/plain": [
       "      Unnamed: 0       IDX   ST_ID    SONG_ID  PRIORITY ST_TAG  \\\n",
       "1118        1118  10669994  467710       2466         2   편안해요   \n",
       "432          432  10225315  456206       5112        17     신남   \n",
       "1255        1255  11485381  488851       7712        11    화나요   \n",
       "86            86   8327385  363115       9270        13   행복해요   \n",
       "1306        1306  11503684  489238       9302         9    화나요   \n",
       "...          ...       ...     ...        ...       ...    ...   \n",
       "892          892  10610145  466008   34850634         1   편안해요   \n",
       "947          947  10639507  466884   34890162        20   편안해요   \n",
       "1328        1328  11661397  493585   34927767        12    화나요   \n",
       "1335        1335  11661404  493585   34943312        19    화나요   \n",
       "725          725  10402486  460784  101721111         1     신남   \n",
       "\n",
       "                                                 LYRICS  \\\n",
       "1118  나도 알지 못한날 굳이 알려고 들지마 \\n보여줄 수 없는 내 마음만 안타까울 뿐 \\...   \n",
       "432   제각기 있기 였기 때문이기 \\n사랑했기 때문이기 \\n하루지기 이야기 이야기 \\n잊지...   \n",
       "1255  당신은 모르실 거야\\n얼마나 사랑했는지\\n세월이 흘러가면은\\n그때서 뉘우칠 거야\\n...   \n",
       "86    이렇게 멋진 파란 하늘 위로 \\n날으는 마법 융단을 타고 \\n이렇게 멋진 푸른 세상...   \n",
       "1306                                                 \\N   \n",
       "...                                                 ...   \n",
       "892   너와 함께 하고 싶은 일들을\\n상상하는 게\\n요즘 내 일상이 되고\\n너의 즐거워하는...   \n",
       "947   인스타로 몰래 보는 너의 하루들\\n누가 봐도 헤어진 티를 내\\n팔로우 다 끊고서 좋...   \n",
       "1328  Back to the day\\n갓 10대가 됐을 때\\n그때 내가 널 보지 못했다면\\...   \n",
       "1335  우리 다시 만날래\\n예쁘게 빛나던\\n모든 추억들이\\n너무 그리워\\n너의 품에 안길래...   \n",
       "725                                                  \\N   \n",
       "\n",
       "                    SONG_TITLE new_tag  \n",
       "1118                     오늘도 난          \n",
       "432                    끝 (End)          \n",
       "1255  당신은 모르실거야 (CF - LIG 핑클편)          \n",
       "86                   매직 카펫 라이드          \n",
       "1306         Deep In The Night          \n",
       "...                        ...     ...  \n",
       "892                     사랑인가 봐          \n",
       "947                   다시 만날까 봐          \n",
       "1328      정이라고 하자 (Feat. 10CM)          \n",
       "1335                    나의 X에게          \n",
       "725               On the Atlas          \n",
       "\n",
       "[1337 rows x 9 columns]"
      ]
     },
     "execution_count": 42,
     "metadata": {},
     "output_type": "execute_result"
    }
   ],
   "source": [
    "sort_lyrics"
   ]
  },
  {
   "cell_type": "code",
   "execution_count": null,
   "metadata": {},
   "outputs": [],
   "source": []
  }
 ],
 "metadata": {
  "kernelspec": {
   "display_name": "Python 3.7.4 ('venv': venv)",
   "language": "python",
   "name": "python3"
  },
  "language_info": {
   "codemirror_mode": {
    "name": "ipython",
    "version": 3
   },
   "file_extension": ".py",
   "mimetype": "text/x-python",
   "name": "python",
   "nbconvert_exporter": "python",
   "pygments_lexer": "ipython3",
   "version": "3.7.4"
  },
  "orig_nbformat": 4,
  "vscode": {
   "interpreter": {
    "hash": "3a62482c2a878b3b3992621aafb87e702aee14d685d40f18f2baf279f6251c86"
   }
  }
 },
 "nbformat": 4,
 "nbformat_minor": 2
}
