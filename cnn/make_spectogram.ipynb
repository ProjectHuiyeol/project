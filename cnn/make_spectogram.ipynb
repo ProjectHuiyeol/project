{
 "cells": [
  {
   "cell_type": "code",
   "execution_count": 2,
   "metadata": {},
   "outputs": [
    {
     "ename": "ModuleNotFoundError",
     "evalue": "No module named 'librosa'",
     "output_type": "error",
     "traceback": [
      "\u001b[1;31m---------------------------------------------------------------------------\u001b[0m",
      "\u001b[1;31mModuleNotFoundError\u001b[0m                       Traceback (most recent call last)",
      "\u001b[1;32m~\\AppData\\Local\\Temp\\ipykernel_2852\\207922380.py\u001b[0m in \u001b[0;36m<module>\u001b[1;34m\u001b[0m\n\u001b[1;32m----> 1\u001b[1;33m \u001b[1;32mimport\u001b[0m \u001b[0mlibrosa\u001b[0m\u001b[1;33m\u001b[0m\u001b[1;33m\u001b[0m\u001b[0m\n\u001b[0m\u001b[0;32m      2\u001b[0m \u001b[1;32mimport\u001b[0m \u001b[0mmatplotlib\u001b[0m\u001b[1;33m.\u001b[0m\u001b[0mpyplot\u001b[0m \u001b[1;32mas\u001b[0m \u001b[0mplt\u001b[0m\u001b[1;33m\u001b[0m\u001b[1;33m\u001b[0m\u001b[0m\n\u001b[0;32m      3\u001b[0m \u001b[1;32mimport\u001b[0m \u001b[0mIPython\u001b[0m\u001b[1;33m.\u001b[0m\u001b[0mdisplay\u001b[0m \u001b[1;32mas\u001b[0m \u001b[0mdis\u001b[0m\u001b[1;33m\u001b[0m\u001b[1;33m\u001b[0m\u001b[0m\n\u001b[0;32m      4\u001b[0m \u001b[1;32mimport\u001b[0m \u001b[0mnumpy\u001b[0m \u001b[1;32mas\u001b[0m \u001b[0mnp\u001b[0m\u001b[1;33m\u001b[0m\u001b[1;33m\u001b[0m\u001b[0m\n\u001b[0;32m      5\u001b[0m \u001b[1;32mimport\u001b[0m \u001b[0mos\u001b[0m\u001b[1;33m,\u001b[0m \u001b[0msys\u001b[0m\u001b[1;33m\u001b[0m\u001b[1;33m\u001b[0m\u001b[0m\n",
      "\u001b[1;31mModuleNotFoundError\u001b[0m: No module named 'librosa'"
     ]
    }
   ],
   "source": [
    "import librosa\n",
    "import matplotlib.pyplot as plt\n",
    "import IPython.display as dis\n",
    "import numpy as np\n",
    "import os, sys\n",
    "from tqdm import tqdm"
   ]
  },
  {
   "cell_type": "code",
   "execution_count": 90,
   "metadata": {},
   "outputs": [
    {
     "name": "stderr",
     "output_type": "stream",
     "text": [
      "100%|██████████| 10/10 [00:42<00:00,  4.24s/it]\n"
     ]
    }
   ],
   "source": [
    "# 경로 설정\n",
    "path = 'C:\\\\Users\\\\인공지능사관학교\\\\Desktop\\\\최종프로젝트\\\\gtzan\\\\Data\\\\genres_original'\n",
    "\n",
    "wholedata = []\n",
    "genres = []\n",
    "\n",
    "root_dir = os.listdir(path)\n",
    "for categori in tqdm(root_dir):\n",
    "    categori_path = path+'/'+str(categori)\n",
    "    genres.append(categori)\n",
    "    categori_dir = os.listdir(categori_path)\n",
    "    # 스펙트로그램을 담을 임시 리스트\n",
    "    sub_list = []\n",
    "    for music in categori_dir:\n",
    "        # wav 파일을 가져와 멜스펙토그램으로 변환한후 리스트에 담는다.\n",
    "        y, sr = librosa.load(categori_path+'/'+str(music))\n",
    "        S = librosa.feature.melspectrogram(y=y, sr=sr)\n",
    "        S_DB = librosa.amplitude_to_db(S, ref=np.max)\n",
    "        sub_list.append(S_DB)\n",
    "    \n",
    "    wholedata.append(sub_list)\n",
    "\n"
   ]
  },
  {
   "cell_type": "code",
   "execution_count": 97,
   "metadata": {},
   "outputs": [
    {
     "name": "stderr",
     "output_type": "stream",
     "text": [
      "100%|██████████| 10/10 [00:00<00:00, 1671.10it/s]\n"
     ]
    }
   ],
   "source": [
    "wav_to_img_data = []\n",
    "target = []\n",
    "cnt = 0\n",
    "# 128*128 사이즈로 멜스펙토그램 이미지를 잘라서 담아두고\n",
    "# 타겟값을 같이 추가한 넘파이배열을 만든다\n",
    "for categori in tqdm(wholedata):\n",
    "    for spec in categori:\n",
    "        for i in range(5):\n",
    "            wav_to_img_data.append(spec[:, 128* i : 128 * (i+1)].reshape(128,128,-1))\n",
    "            target.append(cnt)\n",
    "    cnt += 1\n",
    "wav_to_img_data = np.array(wav_to_img_data)\n",
    "target = np.array(target)\n",
    "del cnt"
   ]
  },
  {
   "cell_type": "code",
   "execution_count": 74,
   "metadata": {},
   "outputs": [],
   "source": [
    "import tensorflow as tf\n",
    "from tensorflow.keras.layers import Input, Dense, Conv2D, MaxPooling2D, BatchNormalization, Activation, Flatten"
   ]
  },
  {
   "cell_type": "code",
   "execution_count": 139,
   "metadata": {},
   "outputs": [],
   "source": [
    "# layers\n",
    "\n",
    "inputs = Input(shape=(128,128,1))\n",
    "\n",
    "conv_1 = Conv2D(16, kernel_size=3, strides=1, padding='same')(inputs)\n",
    "bn_1 = BatchNormalization()(conv_1)\n",
    "relu_1 = Activation('relu')(bn_1)\n",
    "maxpool_1 = MaxPooling2D(pool_size=2, padding='same')(relu_1)\n",
    "\n",
    "conv_2 = Conv2D(32, kernel_size=3, strides=1, padding='same')(maxpool_1)\n",
    "bn_2 = BatchNormalization()(conv_2)\n",
    "relu_2 = Activation('relu')(bn_2)\n",
    "maxpool_2 = MaxPooling2D(pool_size=2, padding='same')(relu_2)\n",
    "\n",
    "conv_3 = Conv2D(64, kernel_size=3, strides=1, padding='same')(maxpool_2)\n",
    "bn_3 = BatchNormalization()(conv_3)\n",
    "relu_3 = Activation('relu')(bn_3)\n",
    "maxpool_3 = MaxPooling2D(pool_size=2, padding='same')(relu_3)\n",
    "\n",
    "flatten = Flatten()(maxpool_3)\n",
    "dense_1 = Dense(128, activation='relu')(flatten)\n",
    "dense_2 = Dense(10, activation='softmax')(dense_1)"
   ]
  },
  {
   "cell_type": "code",
   "execution_count": 140,
   "metadata": {},
   "outputs": [],
   "source": [
    "model = tf.keras.models.Model(inputs, dense_2)"
   ]
  },
  {
   "cell_type": "code",
   "execution_count": 141,
   "metadata": {},
   "outputs": [],
   "source": [
    "model.compile(optimizer='Adam', loss='sparse_categorical_crossentropy', metrics=['acc'])"
   ]
  },
  {
   "cell_type": "code",
   "execution_count": 142,
   "metadata": {},
   "outputs": [
    {
     "name": "stdout",
     "output_type": "stream",
     "text": [
      "Epoch 1/10\n",
      "125/125 [==============================] - 53s 425ms/step - loss: 3.1974 - acc: 0.3371 - val_loss: 8.4706 - val_acc: 0.0000e+00\n",
      "Epoch 2/10\n",
      "125/125 [==============================] - 56s 445ms/step - loss: 1.1697 - acc: 0.5906 - val_loss: 11.3976 - val_acc: 0.0000e+00\n",
      "Epoch 3/10\n",
      "125/125 [==============================] - 55s 437ms/step - loss: 0.9115 - acc: 0.6789 - val_loss: 12.7753 - val_acc: 0.0000e+00\n",
      "Epoch 4/10\n",
      "125/125 [==============================] - 54s 434ms/step - loss: 0.7095 - acc: 0.7548 - val_loss: 13.7224 - val_acc: 0.0000e+00\n",
      "Epoch 5/10\n",
      "125/125 [==============================] - 55s 436ms/step - loss: 0.5777 - acc: 0.8083 - val_loss: 11.7431 - val_acc: 0.0000e+00\n",
      "Epoch 6/10\n",
      "125/125 [==============================] - 55s 442ms/step - loss: 0.4381 - acc: 0.8531 - val_loss: 12.5806 - val_acc: 0.0000e+00\n",
      "Epoch 7/10\n",
      "125/125 [==============================] - 57s 452ms/step - loss: 0.3797 - acc: 0.8696 - val_loss: 11.2596 - val_acc: 0.0000e+00\n",
      "Epoch 8/10\n",
      "125/125 [==============================] - 58s 467ms/step - loss: 0.2966 - acc: 0.9029 - val_loss: 15.2867 - val_acc: 0.0000e+00\n",
      "Epoch 9/10\n",
      "125/125 [==============================] - 56s 452ms/step - loss: 0.1985 - acc: 0.9369 - val_loss: 13.6810 - val_acc: 0.0000e+00\n",
      "Epoch 10/10\n",
      "125/125 [==============================] - 56s 446ms/step - loss: 0.1942 - acc: 0.9359 - val_loss: 14.6283 - val_acc: 0.0000e+00\n"
     ]
    }
   ],
   "source": [
    "history = model.fit(wav_to_img_data, target, epochs=10, batch_size=32, validation_split=0.2)"
   ]
  },
  {
   "cell_type": "code",
   "execution_count": 87,
   "metadata": {},
   "outputs": [
    {
     "data": {
      "text/plain": [
       "(0,)"
      ]
     },
     "execution_count": 87,
     "metadata": {},
     "output_type": "execute_result"
    }
   ],
   "source": [
    "wav_to_img_data.shape"
   ]
  },
  {
   "cell_type": "code",
   "execution_count": 149,
   "metadata": {},
   "outputs": [],
   "source": [
    "wholecnt = 0\n",
    "correctcnt = 0\n",
    "for i in range(10):\n",
    "    for j in range(10):\n",
    "        k = np.random.randint(0,80)\n",
    "        l = np.random.randint(0,1000)\n",
    "        sample = wholedata[i][k][:,l:l+128]\n",
    "        pred = np.argmax(model.predict(sample.reshape(1,128,128,1)))\n",
    "        if pred == i:\n",
    "            correctcnt +=1\n",
    "        wholecnt+=1\n",
    "\n"
   ]
  },
  {
   "cell_type": "code",
   "execution_count": 150,
   "metadata": {},
   "outputs": [
    {
     "data": {
      "text/plain": [
       "0.52"
      ]
     },
     "execution_count": 150,
     "metadata": {},
     "output_type": "execute_result"
    }
   ],
   "source": [
    "correctcnt/wholecnt"
   ]
  },
  {
   "cell_type": "code",
   "execution_count": null,
   "metadata": {},
   "outputs": [],
   "source": []
  }
 ],
 "metadata": {
  "kernelspec": {
   "display_name": "base",
   "language": "python",
   "name": "python3"
  },
  "language_info": {
   "codemirror_mode": {
    "name": "ipython",
    "version": 3
   },
   "file_extension": ".py",
   "mimetype": "text/x-python",
   "name": "python",
   "nbconvert_exporter": "python",
   "pygments_lexer": "ipython3",
   "version": "3.7.4"
  },
  "orig_nbformat": 4,
  "vscode": {
   "interpreter": {
    "hash": "e4cce46d6be9934fbd27f9ca0432556941ea5bdf741d4f4d64c6cd7f8dfa8fba"
   }
  }
 },
 "nbformat": 4,
 "nbformat_minor": 2
}
