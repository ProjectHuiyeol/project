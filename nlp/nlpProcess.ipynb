{
 "cells": [
  {
   "attachments": {},
   "cell_type": "markdown",
   "metadata": {},
   "source": [
    "## 사전 준비"
   ]
  },
  {
   "cell_type": "code",
   "execution_count": null,
   "metadata": {},
   "outputs": [],
   "source": [
    "import os\n",
    "import numpy as np\n",
    "import pandas as pd\n",
    "import pickle\n",
    "from tqdm import tqdm\n",
    "\n",
    "import tensorflow as tf\n",
    "from transformers import TFElectraModel"
   ]
  },
  {
   "cell_type": "code",
   "execution_count": null,
   "metadata": {},
   "outputs": [],
   "source": [
    "tf.random.set_seed(42)\n",
    "np.random.seed(42)\n",
    "np.set_printoptions(precision=6, suppress=True)"
   ]
  },
  {
   "cell_type": "code",
   "execution_count": null,
   "metadata": {},
   "outputs": [],
   "source": [
    "CLASS_NUMBER = 3\n",
    "NEG_CLASS_NUMBER = 5\n",
    "MAX_LEN = 40\n",
    "MAX_WORD = 20\n",
    "BERT_CKPT = './data_out/'\n",
    "DATA_IN_PATH = '../metadata/'\n",
    "DATA_OUT_PATH = './data_out/'"
   ]
  },
  {
   "attachments": {},
   "cell_type": "markdown",
   "metadata": {},
   "source": [
    "### 토크나이저, 라벨인코더 로드"
   ]
  },
  {
   "cell_type": "code",
   "execution_count": null,
   "metadata": {},
   "outputs": [],
   "source": [
    "# Load Electra Tokenizer\n",
    "with open(DATA_OUT_PATH+'tokenizer.pickle', 'rb') as handle:\n",
    "    loaded_tokenizer = pickle.load(handle)"
   ]
  },
  {
   "cell_type": "code",
   "execution_count": null,
   "metadata": {},
   "outputs": [],
   "source": [
    "# Load 3classes(neg, neut, pos) LabelEncoder\n",
    "with open(DATA_OUT_PATH+'3classEncoder.pickle', 'rb') as handle:\n",
    "    le = pickle.load(handle)"
   ]
  },
  {
   "cell_type": "code",
   "execution_count": null,
   "metadata": {},
   "outputs": [],
   "source": [
    "# Load 5classes(angry, dislike, fear, sad, surprise) LabelEncoder\n",
    "with open(DATA_OUT_PATH+'negClassEncoder.pickle', 'rb') as handle:\n",
    "    neg_le = pickle.load(handle)"
   ]
  },
  {
   "cell_type": "code",
   "execution_count": null,
   "metadata": {},
   "outputs": [],
   "source": [
    "# Fuctiong for Tokenizing Sentence\n",
    "def electra_tokenizer(sent, MAX_LEN):\n",
    "    encoded_dict = loaded_tokenizer.encode_plus(\n",
    "        text=sent,\n",
    "        add_special_tokens=True,\n",
    "        max_length=MAX_LEN,\n",
    "        padding='max_length',\n",
    "        truncation=True,\n",
    "        return_attention_mask=True\n",
    "    )\n",
    "\n",
    "    input_id = encoded_dict['input_ids']\n",
    "    attention_mask = encoded_dict['attention_mask']\n",
    "    token_type_id = encoded_dict['token_type_ids']\n",
    "\n",
    "    return input_id, attention_mask, token_type_id"
   ]
  },
  {
   "attachments": {},
   "cell_type": "markdown",
   "metadata": {},
   "source": [
    "### 모델 정의"
   ]
  },
  {
   "cell_type": "code",
   "execution_count": null,
   "metadata": {},
   "outputs": [],
   "source": [
    "class TFElectraClassifier(tf.keras.Model):\n",
    "    def __init__(self, model_name, dir_path, num_class):\n",
    "        super().__init__()\n",
    "\n",
    "        self.bert = TFElectraModel.from_pretrained(model_name, cache_dir=dir_path, from_pt=True)\n",
    "        self.dropout = tf.keras.layers.Dropout(self.bert.config.hidden_dropout_prob)\n",
    "        self.flatten = tf.keras.layers.Flatten()\n",
    "        self.classifier = tf.keras.layers.Dense(num_class, name='classifier', activation='softmax', kernel_initializer=tf.keras.initializers.TruncatedNormal(self.bert.config.initializer_range))\n",
    "\n",
    "    def call(self, inputs, attention_mask=None, token_type_ids=None, training=False):\n",
    "        \n",
    "        outputs = self.bert(inputs, attention_mask=attention_mask, token_type_ids=token_type_ids)\n",
    "        last_hidden_state = outputs[0]\n",
    "        last_hidden_state = self.flatten(last_hidden_state)\n",
    "        last_hidden_state = self.dropout(last_hidden_state, training=training)\n",
    "        logits = self.classifier(last_hidden_state)\n",
    "\n",
    "        return logits"
   ]
  },
  {
   "cell_type": "code",
   "execution_count": null,
   "metadata": {},
   "outputs": [],
   "source": [
    "# ElectraClassifier for classifying 3classes(neg, neut, pos)\n",
    "cls_model = TFElectraClassifier(model_name='monologg/koelectra-base-v3-discriminator', dir_path=os.path.join(BERT_CKPT, 'model'), num_class=CLASS_NUMBER)"
   ]
  },
  {
   "cell_type": "code",
   "execution_count": null,
   "metadata": {},
   "outputs": [],
   "source": [
    "# ElectraClassifier for classifying 5classes(angry, dislike, fear, sad, surprise)\n",
    "neg_model = TFElectraClassifier(model_name='monologg/koelectra-base-v3-discriminator', dir_path=os.path.join(BERT_CKPT, 'model'), num_class=NEG_CLASS_NUMBER)"
   ]
  },
  {
   "cell_type": "code",
   "execution_count": null,
   "metadata": {},
   "outputs": [],
   "source": [
    "# For Loading Weights\n",
    "a, b, c = electra_tokenizer('안녕하세요', MAX_LEN)\n",
    "cls_model.call((np.array(a).reshape(1,-1), np.array(b).reshape(1,-1), np.array(c).reshape(1,-1)))\n",
    "cls_model.built = True\n",
    "cls_model.load_weights(DATA_OUT_PATH+'tf2_electra_plutchik_hs_6.h5')"
   ]
  },
  {
   "cell_type": "code",
   "execution_count": null,
   "metadata": {},
   "outputs": [],
   "source": [
    "# For Loading Weights\n",
    "a, b, c = electra_tokenizer('안녕하세요', MAX_LEN)\n",
    "neg_model.call((np.array(a).reshape(1,-1), np.array(b).reshape(1,-1), np.array(c).reshape(1,-1)))\n",
    "neg_model.built = True\n",
    "neg_model.load_weights(DATA_OUT_PATH+'tf2_electra_plutchik_hs_10.h5')"
   ]
  },
  {
   "cell_type": "code",
   "execution_count": null,
   "metadata": {},
   "outputs": [],
   "source": [
    "# Compile\n",
    "optimizer = tf.keras.optimizers.Adam(3e-6)\n",
    "loss = tf.keras.losses.SparseCategoricalCrossentropy(from_logits=True)\n",
    "metric = tf.keras.metrics.SparseCategoricalAccuracy('accuracy')\n",
    "cls_model.compile(optimizer=optimizer, loss=loss, metrics=[metric])"
   ]
  },
  {
   "attachments": {},
   "cell_type": "markdown",
   "metadata": {},
   "source": [
    "### 예측 준비"
   ]
  },
  {
   "cell_type": "code",
   "execution_count": null,
   "metadata": {},
   "outputs": [],
   "source": [
    "# Function for Preprocessing 3classes classification(neg, neut, pos)\n",
    "def preprocessing(x):\n",
    "    temp = x.split('\\n')\n",
    "    temp = ' '.join(temp)\n",
    "    return temp\n",
    "\n",
    "def slicing(x):\n",
    "    x = x.split()\n",
    "    res = []\n",
    "    for i in range(0, len(x)+1, MAX_WORD):\n",
    "        if len(x)-i-MAX_WORD < MAX_WORD//2:\n",
    "            temp = x[i:]\n",
    "            res.append(temp)\n",
    "            break\n",
    "        temp = x[i:i+MAX_WORD]\n",
    "        res.append(temp)\n",
    "    return res\n",
    "\n",
    "def predict(lyrics):\n",
    "    temp = []\n",
    "    lyrics = preprocessing(lyrics)\n",
    "    lyrics = slicing(lyrics)\n",
    "    for lyric in lyrics:\n",
    "        try:\n",
    "            txt = ' '.join(lyric)\n",
    "            temp.append(txt)\n",
    "        except:\n",
    "            continue\n",
    "\n",
    "    input_ids = []\n",
    "    attention_masks = []\n",
    "    token_type_ids = []\n",
    "\n",
    "    for lyric in temp:\n",
    "        try:\n",
    "            input_id, attention_mask, token_type_id = electra_tokenizer(lyric, MAX_LEN)\n",
    "            input_ids.append(input_id)\n",
    "            attention_masks.append(attention_mask)\n",
    "            token_type_ids.append(token_type_id)\n",
    "\n",
    "        except Exception as e:\n",
    "            print(e)\n",
    "            pass\n",
    "    prediction = cls_model.predict(input_ids)\n",
    "\n",
    "    return prediction\n",
    "\n",
    "def transform(array):\n",
    "    result = le.inverse_transform([np.argmax(array)])\n",
    "    return result"
   ]
  },
  {
   "cell_type": "code",
   "execution_count": null,
   "metadata": {},
   "outputs": [],
   "source": [
    "# Function for Preprocessing 5classes classification(angry, dislike, fear, sad, surprise)\n",
    "def neg_predict(lyrics):\n",
    "    temp = []\n",
    "    lyrics = preprocessing(lyrics)\n",
    "    lyrics = slicing(lyrics)\n",
    "    for lyric in lyrics:\n",
    "        try:\n",
    "            txt = ' '.join(lyric)\n",
    "            temp.append(txt)\n",
    "        except:\n",
    "            continue\n",
    "\n",
    "    input_ids = []\n",
    "    attention_masks = []\n",
    "    token_type_ids = []\n",
    "\n",
    "    for lyric in temp:\n",
    "        try:\n",
    "            input_id, attention_mask, token_type_id = electra_tokenizer(lyric, MAX_LEN)\n",
    "            input_ids.append(input_id)\n",
    "            attention_masks.append(attention_mask)\n",
    "            token_type_ids.append(token_type_id)\n",
    "\n",
    "        except Exception as e:\n",
    "            print(e)\n",
    "            pass\n",
    "    prediction = neg_model.predict(input_ids)\n",
    "\n",
    "    return prediction\n",
    "\n",
    "def neg_transform(array):\n",
    "    result = neg_le.inverse_transform([np.argmax(array)])\n",
    "    return result"
   ]
  },
  {
   "attachments": {},
   "cell_type": "markdown",
   "metadata": {},
   "source": [
    "## 예측"
   ]
  },
  {
   "cell_type": "code",
   "execution_count": null,
   "metadata": {},
   "outputs": [],
   "source": [
    "lyrics = pd.read_csv(DATA_IN_PATH+'db에넣을노래들.csv')\n",
    "data = lyrics[['SONG_ID', 'SONG_TITLE', 'LYRICS']]"
   ]
  },
  {
   "cell_type": "code",
   "execution_count": null,
   "metadata": {},
   "outputs": [],
   "source": [
    "song_ids = lyrics['SONG_ID']"
   ]
  },
  {
   "cell_type": "code",
   "execution_count": null,
   "metadata": {},
   "outputs": [],
   "source": [
    "pred = dict()"
   ]
  },
  {
   "cell_type": "code",
   "execution_count": null,
   "metadata": {},
   "outputs": [],
   "source": [
    "for id in song_ids:\n",
    "    lyric = data[data['SONG_ID']==id]['LYRICS'].values[0]\n",
    "    prediction = predict(lyric)\n",
    "    score = sum(prediction)/len(prediction)\n",
    "    senti = transform(score)\n",
    "    pred[id] = (score, senti)"
   ]
  },
  {
   "cell_type": "code",
   "execution_count": null,
   "metadata": {},
   "outputs": [],
   "source": [
    "data['score'] = ''\n",
    "data['senti'] = ''"
   ]
  },
  {
   "cell_type": "code",
   "execution_count": null,
   "metadata": {},
   "outputs": [],
   "source": [
    "for id in song_ids:\n",
    "    sc, se = pred[id]\n",
    "    data.loc[data[data['SONG_ID']==id].index, 'score'] = str(sc)\n",
    "    data.loc[data[data['SONG_ID']==id].index, 'senti'] = se"
   ]
  },
  {
   "cell_type": "code",
   "execution_count": null,
   "metadata": {},
   "outputs": [],
   "source": [
    "neg_data = data[data['senti']=='neg']\n",
    "pos_data = data[data['senti']=='pos']\n",
    "neg_ids = neg_data['SONG_ID']\n",
    "pos_ids = pos_data['SONG_ID']"
   ]
  },
  {
   "cell_type": "code",
   "execution_count": null,
   "metadata": {},
   "outputs": [],
   "source": [
    "pos_pred = dict()\n",
    "neg_pred = dict()"
   ]
  },
  {
   "cell_type": "code",
   "execution_count": null,
   "metadata": {},
   "outputs": [],
   "source": [
    "for id in neg_ids:\n",
    "    lyric = data[data['SONG_ID']==id]['LYRICS'].values[0]\n",
    "    prediction = neg_predict(lyric)\n",
    "    score = sum(prediction)/len(prediction)\n",
    "    senti = neg_transform(score)\n",
    "    neg_pred[id] = (score, senti)"
   ]
  },
  {
   "cell_type": "code",
   "execution_count": null,
   "metadata": {},
   "outputs": [],
   "source": [
    "data['final_score'] = ''\n",
    "data['final_senti'] = ''\n",
    "data['total'] = ''"
   ]
  },
  {
   "cell_type": "code",
   "execution_count": null,
   "metadata": {},
   "outputs": [],
   "source": [
    "for key in neg_ids:\n",
    "    sc, se = neg_pred[key]\n",
    "    data.loc[data[data['SONG_ID']==key].index, 'final_score'] = str(sc)\n",
    "    data.loc[data[data['SONG_ID']==key].index, 'final_senti'] = se"
   ]
  },
  {
   "cell_type": "code",
   "execution_count": null,
   "metadata": {},
   "outputs": [],
   "source": [
    "for key in neg_ids:\n",
    "    neg_sc = np.fromstring(data.loc[data[data['SONG_ID']==key].index, 'final_score'].tolist()[0][1:-1], dtype=float, sep=' ')\n",
    "    pos_sc = np.fromstring(data.loc[data[data['SONG_ID']==key].index, 'score'].tolist()[0][1:-1], dtype=float, sep=' ')\n",
    "    ratio = np.array(((pos_sc[int(le.transform(['neg'])[0])]+pos_sc[1]*0.5), (pos_sc[int(le.transform(['pos'])[0])]+pos_sc[1]*0.5)))\n",
    "    rated_sc = np.append(np.max(neg_sc)*(ratio[1]/ratio[0]), neg_sc)\n",
    "    total_sc = rated_sc/(sum(rated_sc))\n",
    "    data.loc[data[data['SONG_ID']==key].index, 'total'] = str(total_sc)"
   ]
  },
  {
   "cell_type": "code",
   "execution_count": null,
   "metadata": {},
   "outputs": [],
   "source": [
    "for id in pos_ids:\n",
    "    lyric = data[data['SONG_ID']==id]['LYRICS'].values[0]\n",
    "    prediction = neg_predict(lyric)\n",
    "    score = sum(prediction)/len(prediction)\n",
    "    pos_pred[id] = (score, 'happy')"
   ]
  },
  {
   "cell_type": "code",
   "execution_count": null,
   "metadata": {},
   "outputs": [],
   "source": [
    "for key in pos_ids:\n",
    "    sc, se = pos_pred[key]\n",
    "    data.loc[data[data['SONG_ID']==key].index, 'final_score'] = str(sc)\n",
    "    data.loc[data[data['SONG_ID']==key].index, 'final_senti'] = se"
   ]
  },
  {
   "cell_type": "code",
   "execution_count": null,
   "metadata": {},
   "outputs": [],
   "source": [
    "for key in pos_ids:\n",
    "    neg_sc = np.fromstring(data.loc[data[data['SONG_ID']==key].index, 'final_score'].tolist()[0][1:-1], dtype=float, sep=' ')\n",
    "    pos_sc = np.fromstring(data.loc[data[data['SONG_ID']==key].index, 'score'].tolist()[0][1:-1], dtype=float, sep=' ')\n",
    "    ratio = np.array(((pos_sc[int(le.transform(['neg'])[0])]+pos_sc[1]*0.5), (pos_sc[int(le.transform(['pos'])[0])]+pos_sc[1]*0.5)))\n",
    "    rated_sc = np.append(ratio[1], ratio[0]*neg_sc)\n",
    "    total_sc = rated_sc/(sum(rated_sc))\n",
    "    data.loc[data[data['SONG_ID']==key].index, 'total'] = str(total_sc)"
   ]
  },
  {
   "cell_type": "code",
   "execution_count": null,
   "metadata": {},
   "outputs": [],
   "source": [
    "data = data.drop(data[data['senti']=='neut'].index)"
   ]
  },
  {
   "cell_type": "code",
   "execution_count": null,
   "metadata": {},
   "outputs": [],
   "source": [
    "data.to_csv(DATA_IN_PATH+'testLyrics.csv', encoding='utf-8-sig')"
   ]
  },
  {
   "attachments": {},
   "cell_type": "markdown",
   "metadata": {},
   "source": [
    "## 클래스 정의"
   ]
  },
  {
   "cell_type": "code",
   "execution_count": null,
   "metadata": {},
   "outputs": [],
   "source": [
    "class EmotionClassfier():\n",
    "    def __init__(self,encoder1, encoder2):\n",
    "\n",
    "        self.model1 = TFElectraClassifier(model_name='monologg/koelectra-base-v3-discriminator', dir_path=os.path.join(BERT_CKPT, 'model'), num_class=CLASS_NUMBER)\n",
    "        self.model2 = TFElectraClassifier(model_name='monologg/koelectra-base-v3-discriminator', dir_path=os.path.join(BERT_CKPT, 'model'), num_class=NEG_CLASS_NUMBER)\n",
    "        self.encoder1 = encoder1\n",
    "        self.encoder2 = encoder2\n",
    "\n",
    "    def call(self):\n",
    "        # For Loading Weights\n",
    "        a, b, c = electra_tokenizer('안녕하세요', MAX_LEN)\n",
    "        self.model1.call((np.array(a).reshape(1,-1), np.array(b).reshape(1,-1), np.array(c).reshape(1,-1)))\n",
    "        self.model1.built = True\n",
    "        self.model1.load_weights(DATA_OUT_PATH+'tf2_electra_plutchik_hs_6.h5')\n",
    "        # For Loading Weights\n",
    "        a, b, c = electra_tokenizer('안녕하세요', MAX_LEN)\n",
    "        self.model2.call((np.array(a).reshape(1,-1), np.array(b).reshape(1,-1), np.array(c).reshape(1,-1)))\n",
    "        self.model2.built = True\n",
    "        self.model2.load_weights(DATA_OUT_PATH+'tf2_electra_plutchik_hs_10.h5')\n",
    "\n",
    "    # Function for Preprocessing 3classes classification(neg, neut, pos)\n",
    "    def preprocessing(self, lyric):\n",
    "        temp = lyric.split('\\n')\n",
    "        temp = ' '.join(temp)\n",
    "        return temp\n",
    "\n",
    "    def slicing(self, lyric):\n",
    "        lyric = lyric.split()\n",
    "        res = []\n",
    "        for i in range(0, len(lyric)+1, MAX_WORD):\n",
    "            if len(lyric)-i-MAX_WORD < MAX_WORD//2:\n",
    "                temp = lyric[i:]\n",
    "                res.append(temp)\n",
    "                break\n",
    "            temp = lyric[i:i+MAX_WORD]\n",
    "            res.append(temp)\n",
    "        return res\n",
    "\n",
    "    def predict3classes(self, lyrics):\n",
    "        temp = []\n",
    "        lyrics = self.preprocessing(lyrics)\n",
    "        lyrics = self.slicing(lyrics)\n",
    "        for lyric in lyrics:\n",
    "            try:\n",
    "                txt = ' '.join(lyric)\n",
    "                temp.append(txt)\n",
    "            except:\n",
    "                continue\n",
    "\n",
    "        input_ids = []\n",
    "        attention_masks = []\n",
    "        token_type_ids = []\n",
    "\n",
    "        for lyric in temp:\n",
    "            try:\n",
    "                input_id, attention_mask, token_type_id = electra_tokenizer(lyric, MAX_LEN)\n",
    "                input_ids.append(input_id)\n",
    "                attention_masks.append(attention_mask)\n",
    "                token_type_ids.append(token_type_id)\n",
    "\n",
    "            except Exception as e:\n",
    "                print(e)\n",
    "                pass\n",
    "        prediction = self.model1.predict(input_ids, verbose=0)\n",
    "\n",
    "        return prediction\n",
    "\n",
    "    # Function for Preprocessing 5classes classification(angry, dislike, fear, sad, surprise)\n",
    "    def predict_neg(self, lyrics):\n",
    "        temp = []\n",
    "        lyrics = self.preprocessing(lyrics)\n",
    "        lyrics = self.slicing(lyrics)\n",
    "        for lyric in lyrics:\n",
    "            try:\n",
    "                txt = ' '.join(lyric)\n",
    "                temp.append(txt)\n",
    "            except:\n",
    "                continue\n",
    "\n",
    "        input_ids = []\n",
    "        attention_masks = []\n",
    "        token_type_ids = []\n",
    "\n",
    "        for lyric in temp:\n",
    "            try:\n",
    "                input_id, attention_mask, token_type_id = electra_tokenizer(lyric, MAX_LEN)\n",
    "                input_ids.append(input_id)\n",
    "                attention_masks.append(attention_mask)\n",
    "                token_type_ids.append(token_type_id)\n",
    "\n",
    "            except Exception as e:\n",
    "                print(e)\n",
    "                pass\n",
    "        prediction = self.model2.predict(input_ids, verbose=0)\n",
    "\n",
    "        return prediction\n",
    "\n",
    "    def transform_neg(self, array):\n",
    "        result = self.encoder2.inverse_transform([np.argmax(array)])\n",
    "        return result\n",
    "\n",
    "    def transform3classes(self, array):\n",
    "        result = self.encoder1.inverse_transform([np.argmax(array)])\n",
    "        return result\n",
    "\n",
    "    def predictAll(self, lyrics):\n",
    "        # 데이터 입력\n",
    "        data = lyrics[['SONG_ID', 'SONG_TITLE', 'LYRICS']]\n",
    "        song_ids = lyrics['SONG_ID']\n",
    "        # 3분류\n",
    "        pred = dict()\n",
    "        for id in tqdm(song_ids):\n",
    "            lyric = data[data['SONG_ID']==id]['LYRICS'].values[0]\n",
    "            prediction = self.predict3classes(lyric)\n",
    "            score = sum(prediction)/len(prediction)\n",
    "            senti = self.transform3classes(score)\n",
    "            pred[id] = (score, senti)\n",
    "        data['score'] = ''\n",
    "        data['senti'] = ''\n",
    "        for id in song_ids:\n",
    "            sc, se = pred[id]\n",
    "            data.loc[data[data['SONG_ID']==id].index, 'score'] = str(sc)\n",
    "            data.loc[data[data['SONG_ID']==id].index, 'senti'] = se\n",
    "        # 5분류\n",
    "        neg_data = data[data['senti']=='neg']\n",
    "        pos_data = data[data['senti']=='pos']\n",
    "        neg_ids = neg_data['SONG_ID']\n",
    "        pos_ids = pos_data['SONG_ID']\n",
    "        pos_pred = dict()\n",
    "        neg_pred = dict()\n",
    "        # 대분류가 neg인 경우\n",
    "        for id in tqdm(neg_ids):\n",
    "            lyric = data[data['SONG_ID']==id]['LYRICS'].values[0]\n",
    "            prediction = self.predict_neg(lyric)\n",
    "            score = sum(prediction)/len(prediction)\n",
    "            senti = self.transform_neg(score)\n",
    "            neg_pred[id] = (score, senti)\n",
    "        data['final_score'] = ''\n",
    "        data['final_senti'] = ''\n",
    "        data['total'] = ''\n",
    "        for key in neg_ids:\n",
    "            sc, se = neg_pred[key]\n",
    "            data.loc[data[data['SONG_ID']==key].index, 'final_score'] = str(sc)\n",
    "            data.loc[data[data['SONG_ID']==key].index, 'final_senti'] = se\n",
    "        # neg인 경우의 감정 지표 계산\n",
    "        for key in neg_ids:\n",
    "            neg_sc = np.fromstring(data.loc[data[data['SONG_ID']==key].index, 'final_score'].tolist()[0][1:-1], dtype=float, sep=' ')\n",
    "            pos_sc = np.fromstring(data.loc[data[data['SONG_ID']==key].index, 'score'].tolist()[0][1:-1], dtype=float, sep=' ')\n",
    "            ratio = np.array(((pos_sc[int(le.transform(['neg'])[0])]+pos_sc[1]*0.5), (pos_sc[int(le.transform(['pos'])[0])]+pos_sc[1]*0.5)))\n",
    "            rated_sc = np.append(np.max(neg_sc)*(ratio[1]/ratio[0]), neg_sc)\n",
    "            total_sc = rated_sc/(sum(rated_sc))\n",
    "            data.loc[data[data['SONG_ID']==key].index, 'total'] = str(total_sc)\n",
    "        # 대분류가 pos인 경우\n",
    "        for id in tqdm(pos_ids):\n",
    "            lyric = data[data['SONG_ID']==id]['LYRICS'].values[0]\n",
    "            prediction = self.predict_neg(lyric)\n",
    "            score = sum(prediction)/len(prediction)\n",
    "            pos_pred[id] = (score, 'happy')\n",
    "        for key in pos_ids:\n",
    "            sc, se = pos_pred[key]\n",
    "            data.loc[data[data['SONG_ID']==key].index, 'final_score'] = str(sc)\n",
    "            data.loc[data[data['SONG_ID']==key].index, 'final_senti'] = se\n",
    "        # pos인 경우의 감정 지표 계산\n",
    "        for key in pos_ids:\n",
    "            neg_sc = np.fromstring(data.loc[data[data['SONG_ID']==key].index, 'final_score'].tolist()[0][1:-1], dtype=float, sep=' ')\n",
    "            pos_sc = np.fromstring(data.loc[data[data['SONG_ID']==key].index, 'score'].tolist()[0][1:-1], dtype=float, sep=' ')\n",
    "            ratio = np.array(((pos_sc[int(le.transform(['neg'])[0])]+pos_sc[1]*0.5), (pos_sc[int(le.transform(['pos'])[0])]+pos_sc[1]*0.5)))\n",
    "            rated_sc = np.append(ratio[1], ratio[0]*neg_sc)\n",
    "            total_sc = rated_sc/(sum(rated_sc))\n",
    "            data.loc[data[data['SONG_ID']==key].index, 'total'] = str(total_sc)\n",
    "        # 중립 제거\n",
    "        data = data.drop(data[data['senti']=='neut'].index)\n",
    "        return data"
   ]
  },
  {
   "cell_type": "code",
   "execution_count": null,
   "metadata": {},
   "outputs": [],
   "source": [
    "model = EmotionClassfier(le, neg_le)"
   ]
  },
  {
   "cell_type": "code",
   "execution_count": null,
   "metadata": {},
   "outputs": [],
   "source": [
    "model.call()"
   ]
  },
  {
   "cell_type": "code",
   "execution_count": null,
   "metadata": {},
   "outputs": [],
   "source": [
    "test = pd.read_csv(DATA_IN_PATH+'test.csv')"
   ]
  },
  {
   "cell_type": "code",
   "execution_count": null,
   "metadata": {},
   "outputs": [],
   "source": [
    "model.predictAll(test)"
   ]
  }
 ],
 "metadata": {
  "kernelspec": {
   "display_name": "Python 3.7.4 ('venv': venv)",
   "language": "python",
   "name": "python3"
  },
  "language_info": {
   "codemirror_mode": {
    "name": "ipython",
    "version": 3
   },
   "file_extension": ".py",
   "mimetype": "text/x-python",
   "name": "python",
   "nbconvert_exporter": "python",
   "pygments_lexer": "ipython3",
   "version": "3.7.4 (default, Aug  9 2019, 18:34:13) [MSC v.1915 64 bit (AMD64)]"
  },
  "orig_nbformat": 4,
  "vscode": {
   "interpreter": {
    "hash": "fbd0d2fb8e022489cd09d5e02fdd4dd8f46560ce587c6c59cf966e8913b7e0e8"
   }
  }
 },
 "nbformat": 4,
 "nbformat_minor": 2
}
