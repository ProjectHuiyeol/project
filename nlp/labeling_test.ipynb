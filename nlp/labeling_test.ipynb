{
 "cells": [
  {
   "cell_type": "code",
   "execution_count": 23,
   "metadata": {},
   "outputs": [],
   "source": [
    "import pandas as pd\n",
    "import numpy as np\n",
    "from time import *"
   ]
  },
  {
   "cell_type": "code",
   "execution_count": 4,
   "metadata": {},
   "outputs": [],
   "source": [
    "lyrics = pd.read_csv('/project_huiyeol/project/metadata/Song_Info.csv')"
   ]
  },
  {
   "cell_type": "code",
   "execution_count": 7,
   "metadata": {},
   "outputs": [],
   "source": [
    "st_tag = ['화나요', '행복해요', '편안해요', '불안', '슬픔', '신남']"
   ]
  },
  {
   "cell_type": "code",
   "execution_count": 16,
   "metadata": {},
   "outputs": [],
   "source": [
    "lyrics['new_tag'] = ''"
   ]
  },
  {
   "cell_type": "code",
   "execution_count": 8,
   "metadata": {},
   "outputs": [],
   "source": [
    "tags = dict()\n",
    "for key, value in enumerate(st_tag):\n",
    "    tags[key+1] = value"
   ]
  },
  {
   "cell_type": "code",
   "execution_count": null,
   "metadata": {},
   "outputs": [],
   "source": [
    "for idx in range(len(lyrics)):\n",
    "    print(lyrics.loc[idx, 'LYRICS'], '\\n')\n",
    "    for i in range(1, len(tags)+1):\n",
    "        print('{}:{}'.format(i, tags[i]), end=' ')\n",
    "    key = int(input())\n",
    "    if key not in tags.keys():\n",
    "        key = int(input())\n",
    "    else:\n",
    "        lyrics.loc[idx, 'new_tag'] = tags[key]\n",
    "        sleep(1)"
   ]
  },
  {
   "cell_type": "code",
   "execution_count": 38,
   "metadata": {},
   "outputs": [],
   "source": [
    "lyrics.to_csv('/project_huiyeol/project/metadata/Song_Lyrics_Labeling.csv')"
   ]
  },
  {
   "cell_type": "code",
   "execution_count": null,
   "metadata": {},
   "outputs": [],
   "source": []
  }
 ],
 "metadata": {
  "kernelspec": {
   "display_name": "Python 3.7.4 ('venv': venv)",
   "language": "python",
   "name": "python3"
  },
  "language_info": {
   "codemirror_mode": {
    "name": "ipython",
    "version": 3
   },
   "file_extension": ".py",
   "mimetype": "text/x-python",
   "name": "python",
   "nbconvert_exporter": "python",
   "pygments_lexer": "ipython3",
   "version": "3.7.4"
  },
  "orig_nbformat": 4,
  "vscode": {
   "interpreter": {
    "hash": "3a62482c2a878b3b3992621aafb87e702aee14d685d40f18f2baf279f6251c86"
   }
  }
 },
 "nbformat": 4,
 "nbformat_minor": 2
}
