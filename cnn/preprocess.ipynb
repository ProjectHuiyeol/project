{
 "cells": [
  {
   "cell_type": "code",
   "execution_count": 1,
   "metadata": {},
   "outputs": [],
   "source": [
    "import pandas as pd\n",
    "import numpy as np\n",
    "import os"
   ]
  },
  {
   "cell_type": "code",
   "execution_count": 2,
   "metadata": {},
   "outputs": [],
   "source": [
    "lyrics = pd.read_csv(os.pardir+'/metadata/Song_Lyrics.csv')\n",
    "songs = pd.read_csv(os.pardir+'/metadata/Song.csv')\n",
    "stations = pd.read_csv(os.pardir+'/metadata/Station_Song.csv')\n",
    "station_tags = pd.read_csv(os.pardir+'/metadata/Station_Tag.csv')\n",
    "tag_info = pd.read_csv(os.pardir+'/metadata/Station_Tag_Info.csv')"
   ]
  },
  {
   "cell_type": "markdown",
   "metadata": {},
   "source": [
    "#### 가사 정보에 대한 결측치 확인"
   ]
  },
  {
   "cell_type": "code",
   "execution_count": 3,
   "metadata": {},
   "outputs": [
    {
     "data": {
      "text/plain": [
       "175.0"
      ]
     },
     "execution_count": 3,
     "metadata": {},
     "output_type": "execute_result"
    }
   ],
   "source": [
    "length = lyrics['LYRICS'].apply(lambda x:len(x))\n",
    "length.quantile(0.05)"
   ]
  },
  {
   "cell_type": "code",
   "execution_count": 4,
   "metadata": {},
   "outputs": [
    {
     "name": "stdout",
     "output_type": "stream",
     "text": [
      "<class 'pandas.core.frame.DataFrame'>\n",
      "Int64Index: 58 entries, 4 to 1199\n",
      "Data columns (total 3 columns):\n",
      " #   Column   Non-Null Count  Dtype \n",
      "---  ------   --------------  ----- \n",
      " 0   IDX      58 non-null     int64 \n",
      " 1   SONG_ID  58 non-null     int64 \n",
      " 2   LYRICS   58 non-null     object\n",
      "dtypes: int64(2), object(1)\n",
      "memory usage: 1.8+ KB\n"
     ]
    }
   ],
   "source": [
    "# 가사의 길이가 100자 이하라면 가사정보가 누락된 것으로 추정한다.\n",
    "lyrics[length < 100].info()"
   ]
  },
  {
   "cell_type": "markdown",
   "metadata": {},
   "source": [
    "#### 각 스테이션의 구성 확인\n",
    "\n",
    "- 57개의 스테이션, 내부에 수록된 곡의 수는 변동\n",
    "- 각 스테이션마다 6개의 세부 감성으로 분류된 태깅 존재"
   ]
  },
  {
   "cell_type": "code",
   "execution_count": 5,
   "metadata": {},
   "outputs": [
    {
     "data": {
      "text/plain": [
       "(57,)"
      ]
     },
     "execution_count": 5,
     "metadata": {},
     "output_type": "execute_result"
    }
   ],
   "source": [
    "stations['ST_ID'].unique().shape"
   ]
  },
  {
   "cell_type": "code",
   "execution_count": 19,
   "metadata": {},
   "outputs": [
    {
     "name": "stdout",
     "output_type": "stream",
     "text": [
      "{5322: '화나요', 5330: '행복해요', 5711: '편안해요', 5759: '슬픔', 5762: '불안', 5766: '신남'}\n"
     ]
    }
   ],
   "source": [
    "tags = dict()\n",
    "for idx, tag in zip(tag_info['IDX'], tag_info['TAG_NAME']):\n",
    "    tags[idx] = tag\n",
    "print(tags)"
   ]
  },
  {
   "cell_type": "code",
   "execution_count": 21,
   "metadata": {},
   "outputs": [],
   "source": [
    "station_tags['ST_TAG'] = station_tags['ST_TAG_ID'].apply(lambda x:tags[x])"
   ]
  },
  {
   "cell_type": "code",
   "execution_count": 27,
   "metadata": {},
   "outputs": [
    {
     "name": "stdout",
     "output_type": "stream",
     "text": [
      "{363115: '행복해요', 364679: '행복해요', 454777: '행복해요', 455284: '편안해요', 456055: '화나요', 456715: '행복해요', 456828: '편안해요', 459133: '행복해요', 461177: '행복해요', 463855: '행복해요', 455966: '불안', 455981: '불안', 456091: '불안', 456109: '불안', 456133: '불안', 456141: '불안', 456143: '불안', 456427: '불안', 456657: '불안', 456757: '불안', 456206: '신남', 460784: '신남', 464453: '신남', 464556: '신남', 466118: '신남', 467316: '신남', 467742: '신남', 468779: '신남', 470388: '신남', 472220: '신남', 455052: '편안해요', 455319: '편안해요', 456422: '편안해요', 465077: '편안해요', 466008: '편안해요', 466884: '편안해요', 467710: '편안해요', 470312: '편안해요', 455995: '슬픔', 456030: '슬픔', 456107: '슬픔', 456198: '슬픔', 456333: '슬픔', 456334: '슬픔', 456375: '슬픔', 456401: '슬픔', 456402: '슬픔', 456440: '슬픔', 487508: '화나요', 488851: '화나요', 488903: '화나요', 489034: '화나요', 489238: '화나요', 493585: '화나요', 154837: '화나요', 159619: '화나요', 159735: '화나요'}\n"
     ]
    }
   ],
   "source": [
    "st_tag = dict()\n",
    "for station, tag in zip(station_tags['ST_ID'], station_tags['ST_TAG']):\n",
    "    st_tag[station] = tag\n",
    "print(st_tag)"
   ]
  },
  {
   "cell_type": "code",
   "execution_count": 28,
   "metadata": {},
   "outputs": [],
   "source": [
    "stations['ST_TAG'] = stations['ST_ID'].apply(lambda x:st_tag[x])"
   ]
  },
  {
   "cell_type": "code",
   "execution_count": 31,
   "metadata": {},
   "outputs": [],
   "source": [
    "song_lyric = dict()\n",
    "for id, lyric in zip(lyrics['SONG_ID'], lyrics['LYRICS']):\n",
    "    song_lyric[id] = lyric"
   ]
  },
  {
   "cell_type": "code",
   "execution_count": 33,
   "metadata": {},
   "outputs": [],
   "source": [
    "def tagging(x):\n",
    "    if x not in song_lyric.keys():\n",
    "        return '\\n'\n",
    "    else:\n",
    "        return song_lyric[x]"
   ]
  },
  {
   "cell_type": "code",
   "execution_count": 34,
   "metadata": {},
   "outputs": [],
   "source": [
    "stations['LYRICS'] = stations['SONG_ID'].apply(tagging)"
   ]
  },
  {
   "cell_type": "code",
   "execution_count": 37,
   "metadata": {},
   "outputs": [],
   "source": [
    "titles = dict()\n",
    "for id, title in zip(songs['SONG_ID'], songs['SONG_TITLE']):\n",
    "    titles[id] = title "
   ]
  },
  {
   "cell_type": "code",
   "execution_count": 38,
   "metadata": {},
   "outputs": [],
   "source": [
    "stations['SONG_TITLE'] = stations['SONG_ID'].apply(lambda x:titles[x])"
   ]
  },
  {
   "cell_type": "code",
   "execution_count": 42,
   "metadata": {},
   "outputs": [],
   "source": [
    "stations.to_csv(os.pardir+'/metadata/Song_Info.csv')"
   ]
  }
 ],
 "metadata": {
  "kernelspec": {
   "display_name": "Python 3.7.4 ('venv': venv)",
   "language": "python",
   "name": "python3"
  },
  "language_info": {
   "codemirror_mode": {
    "name": "ipython",
    "version": 3
   },
   "file_extension": ".py",
   "mimetype": "text/x-python",
   "name": "python",
   "nbconvert_exporter": "python",
   "pygments_lexer": "ipython3",
   "version": "3.7.4"
  },
  "orig_nbformat": 4,
  "vscode": {
   "interpreter": {
    "hash": "3a62482c2a878b3b3992621aafb87e702aee14d685d40f18f2baf279f6251c86"
   }
  }
 },
 "nbformat": 4,
 "nbformat_minor": 2
}
